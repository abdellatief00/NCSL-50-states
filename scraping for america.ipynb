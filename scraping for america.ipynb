{
 "cells": [
  {
   "cell_type": "markdown",
   "id": "b97ac431",
   "metadata": {},
   "source": [
    "### importing all the neccesary liberaries "
   ]
  },
  {
   "cell_type": "code",
   "execution_count": null,
   "id": "66b03928",
   "metadata": {},
   "outputs": [],
   "source": [
    "import requests \n",
    "from bs4 import BeautifulSoup as bs\n",
    "import csv\n",
    "from selenium import webdriver\n",
    "from webdriver_manager.chrome import ChromeDriverManager\n",
    "import pandas as pd\n",
    "from selenium.webdriver.support.select import Select\n",
    "import time \n",
    "from selenium.webdriver.common.by import By"
   ]
  },
  {
   "cell_type": "markdown",
   "id": "16b1a4f8",
   "metadata": {},
   "source": [
    "### connecting to the driver using selenium"
   ]
  },
  {
   "cell_type": "code",
   "execution_count": null,
   "id": "26cef477",
   "metadata": {},
   "outputs": [],
   "source": [
    "driver = webdriver.Chrome()"
   ]
  },
  {
   "cell_type": "markdown",
   "id": "2db14432",
   "metadata": {},
   "source": [
    "### getting the link to the data "
   ]
  },
  {
   "cell_type": "code",
   "execution_count": null,
   "id": "a18e1e56",
   "metadata": {},
   "outputs": [],
   "source": [
    "url = 'https://www.ncsl.org/technology-and-communication/state-9-1-1-bill-tracking-database'\n",
    "driver.get(url)"
   ]
  },
  {
   "cell_type": "markdown",
   "id": "2b8f8caf",
   "metadata": {},
   "source": [
    "### databases name"
   ]
  },
  {
   "cell_type": "code",
   "execution_count": null,
   "id": "8e23760a",
   "metadata": {},
   "outputs": [],
   "source": [
    "# select all topics\n",
    "#topic  = driver.find_element(By.ID , 'dnn_ctr15582_StateNetDB_ckBxTopics_7')\n",
    "#topic.click()\n",
    "# select all states\n",
    "#allstates  = driver.find_element(By.ID , 'dnn_ctr15582_StateNetDB_ckBxAllStates')\n",
    "#allstates.click()\n",
    "# select the year \n",
    "#choose_year = input('please enter the year')\n",
    "#select  = Select(driver.find_element(By.ID,'dnn_ctr15582_StateNetDB_ddlYear'))\n",
    "#select.select_by_value('{}'.format(choose_year))\n",
    "\n",
    "# search \n",
    "#search  = driver.find_element(By.ID , 'dnn_ctr15582_StateNetDB_btnSearch')\n",
    "#search.click()\n",
    "\n",
    "database_name = '9-1-1'"
   ]
  },
  {
   "cell_type": "markdown",
   "id": "6fde27d9",
   "metadata": {},
   "source": [
    "### getting all the html "
   ]
  },
  {
   "cell_type": "code",
   "execution_count": null,
   "id": "075368d9",
   "metadata": {},
   "outputs": [],
   "source": [
    "soup = bs(driver.page_source, 'html.parser')"
   ]
  },
  {
   "cell_type": "markdown",
   "id": "7e270a30",
   "metadata": {},
   "source": [
    "### searching for a speccific id "
   ]
  },
  {
   "cell_type": "code",
   "execution_count": null,
   "id": "de86158f",
   "metadata": {},
   "outputs": [],
   "source": [
    "results = soup.find('div',{'id':'dnn_ctr16184_StateNetDB_linkList'})"
   ]
  },
  {
   "cell_type": "markdown",
   "id": "400729a4",
   "metadata": {},
   "source": [
    "### getting the bill number and bill link and year from the html"
   ]
  },
  {
   "cell_type": "code",
   "execution_count": null,
   "id": "9fc8da42",
   "metadata": {},
   "outputs": [],
   "source": [
    "atag = results.find_all('a')\n",
    "tags = []\n",
    "links = []\n",
    "years = []\n",
    "states = []\n",
    "for tag in atag :\n",
    "    \n",
    "    #find bill number \n",
    "    tags.append(tag.text.strip())\n",
    "    \n",
    "    #find bill link\n",
    "    links.append(tag['href'])\n",
    "    \n",
    "    #find years\n",
    "    years.append(tag.find_next().find_next(text = True).replace('\\n','').strip())\n",
    "    \n",
    "    #find the states\n",
    "    state = tag.text[:2]\n",
    "    states.append(state)"
   ]
  },
  {
   "cell_type": "markdown",
   "id": "42b586bd",
   "metadata": {},
   "source": [
    "### getting the title of the bill and the status of every bill and the author "
   ]
  },
  {
   "cell_type": "code",
   "execution_count": null,
   "id": "95102b84",
   "metadata": {},
   "outputs": [],
   "source": [
    "titles = []\n",
    "statuses = []\n",
    "authers = []\n",
    "for tag in atag:\n",
    "    \n",
    "    # find the title of the bill\n",
    "    title = tag.find_next('div').get_text()\n",
    "    title = title.replace(\"\\n\",'')\n",
    "    titles.append(title.strip())\n",
    "    \n",
    "    # find the status of the bill\n",
    "    status = tag.find_next().find_next().find_next().find_next().find_next().find_next_sibling(text = True).replace('\\n','')\n",
    "    statuses.append(status.strip())\n",
    "    \n",
    "    #find the author of the bill\n",
    "    auther = tag.find_next().find_next().find_next().find_next().find_next()\\\n",
    "    .find_next().find_next().find_next().find_next()\\\n",
    "    .find_next_sibling(text = True).replace('\\n','')\n",
    "    authers.append(auther.strip())\n",
    "    "
   ]
  },
  {
   "cell_type": "markdown",
   "id": "41f79ded",
   "metadata": {},
   "source": [
    "### finding supporting authors and additional bills if existed "
   ]
  },
  {
   "cell_type": "code",
   "execution_count": null,
   "id": "ef8ced82",
   "metadata": {},
   "outputs": [],
   "source": [
    "# finding addtitional authers if existed \n",
    "substring  = 'Additional Authors'\n",
    "substring_assosiated_bills = 'Associated Bills'\n",
    "aditional_authors = []\n",
    "\n",
    "# finding additional bills \n",
    "assosiated_bills = []\n",
    "assosiated_bills_num = []\n",
    "for tag in atag :\n",
    "    string_we_need = tag.find_next().find_next().find_next().find_next().find_next()\\\n",
    "    .find_next().find_next().find_next().find_next().find_next().get_text().strip()\n",
    "    \n",
    "    string_for_ass = tag.find_next().find_next().find_next().find_next().find_next()\\\n",
    "    .find_next().find_next().find_next().find_next().find_next().find_next().find_next()\\\n",
    "    .find_next().get_text().strip()\n",
    "    \n",
    "    aditional_author = 0\n",
    "    assosiated  = ''\n",
    "    assosiated_num = 0\n",
    "    \n",
    "    if substring in string_we_need :\n",
    "        aditional_author =  tag.find_next().find_next().find_next().find_next().find_next()\\\n",
    "        .find_next().find_next().find_next().find_next().find_next()\\\n",
    "        .find_next_sibling(text = True).replace('\\n','').strip()\n",
    "    \n",
    "    if substring_assosiated_bills in string_for_ass:\n",
    "        assosiated = tag.find_next().find_next().find_next().find_next().find_next()\\\n",
    "        .find_next().find_next().find_next().find_next().find_next().find_next().find_next()\\\n",
    "        .find_next().find_next_sibling(text =True).strip()\n",
    "        assosiated_num = 1\n",
    "        \n",
    "    aditional_authors.append(aditional_author)\n",
    "    assosiated_bills.append(assosiated)\n",
    "    assosiated_bills_num.append(assosiated_num)\n",
    "len(assosiated_bills_num)"
   ]
  },
  {
   "cell_type": "markdown",
   "id": "91fccf8e",
   "metadata": {},
   "source": [
    "### transforming the author type and author party"
   ]
  },
  {
   "cell_type": "code",
   "execution_count": null,
   "id": "5d02ba4e",
   "metadata": {},
   "outputs": [],
   "source": [
    "# finding auther type\n",
    "auther_party = []\n",
    "auther_type = []\n",
    "database = []\n",
    "for i in authers:\n",
    "    if '(' in i and ')' in i:\n",
    "        auther_type.append(0)\n",
    "    elif 'Office' in i :\n",
    "        auther_type.append(2)\n",
    "    else :\n",
    "        auther_type.append(1)\n",
    "        \n",
    "        \n",
    "    if '(R)' in i :\n",
    "        auther_party.append(0)\n",
    "    elif '(D)' in i or '(DFL)' in i or '(P)' in i :\n",
    "        auther_party.append(1)\n",
    "    elif '(I)' in i or '(CSI)' in i :\n",
    "        auther_party.append(5)\n",
    "    elif '(NP)' in i :\n",
    "        auther_party.append(7)\n",
    "    elif 'Office' in i or 'County' in i or 'Ethics & Campaign Disclosure Board' in i:\n",
    "        auther_party.append(6)\n",
    "    else :\n",
    "        auther_party.append(8)\n",
    "        \n",
    "    database.append(database_name)\n"
   ]
  },
  {
   "cell_type": "markdown",
   "id": "845f92c3",
   "metadata": {},
   "source": [
    "### transforming the status of the bill"
   ]
  },
  {
   "cell_type": "code",
   "execution_count": null,
   "id": "406e5272",
   "metadata": {},
   "outputs": [],
   "source": [
    "status_num = []\n",
    "for i in statuses:\n",
    "    if 'Adopted' in i :\n",
    "        status_num.append(1)\n",
    "    elif 'Enacted' in i :\n",
    "        status_num.append(2)\n",
    "    elif 'Failed - Adjourned' in i :\n",
    "        status_num.append(4)\n",
    "    elif 'Failed' in i:\n",
    "        status_num.append(3)\n",
    "    elif 'Override Pending' in i:\n",
    "        status_num.append(5)\n",
    "    elif 'Pending - Carryover' in i :\n",
    "        status_num.append(7)\n",
    "    elif 'Pending' in i :\n",
    "        status_num.append(6)\n",
    "    elif 'To Governor' in i :\n",
    "        status_num.append(8)\n",
    "    else:\n",
    "        status_num.append(9)\n"
   ]
  },
  {
   "cell_type": "markdown",
   "id": "648e42a3",
   "metadata": {},
   "source": [
    "### counting all the authors and additional authors \n"
   ]
  },
  {
   "cell_type": "code",
   "execution_count": null,
   "id": "244eeba0",
   "metadata": {},
   "outputs": [],
   "source": [
    "cosponsers = []\n",
    "opposite = []\n",
    "for ele , i in enumerate(aditional_authors):\n",
    "    dem = 0\n",
    "    rep = 0\n",
    "    indp = 0\n",
    "    if i != 0 :\n",
    "        cosponsers.append(len(aditional_authors[ele].split(';')))\n",
    "        for m in aditional_authors[ele].split(';') :\n",
    "            if '(D)' in m or '(DFL)' in m or '(P)' in m :\n",
    "                dem +=1\n",
    "            elif '(R)' in m :\n",
    "                rep +=1\n",
    "            else:\n",
    "                indp +=1\n",
    "        if '(D)' in authers[ele] or '(DFL)' in authers[ele] or '(P)' in authers[ele]:\n",
    "            opposite.append(rep+indp)\n",
    "        elif '(R)' in authers[ele]:\n",
    "            opposite.append(dem+indp)\n",
    "        else:\n",
    "            opposite.append(dem+indp+rep)\n",
    "    else:\n",
    "        cosponsers.append(0)\n",
    "        opposite.append(0)\n"
   ]
  },
  {
   "cell_type": "markdown",
   "id": "157fae4e",
   "metadata": {},
   "source": [
    "### using pandas we transformed into a dataframe"
   ]
  },
  {
   "cell_type": "code",
   "execution_count": null,
   "id": "2e7b6d6c",
   "metadata": {},
   "outputs": [],
   "source": [
    "dic = {\n",
    "    'Database':database,\n",
    "    'Year' : years,\n",
    "    'Bill No': tags,\n",
    "    'Title': titles,\n",
    "    'Status': status_num,\n",
    "    'status_say':statuses,\n",
    "    'Author type':auther_type,\n",
    "    'Author':authers,\n",
    "    'Author party':auther_party,\n",
    "    'Total number of cosponsors':cosponsers,\n",
    "    'Total number of cosponsors from opposite party':opposite,\n",
    "    'Associated bills':assosiated_bills_num,\n",
    "    'Associated bill numbers':assosiated_bills,\n",
    "    'link':links\n",
    "}"
   ]
  },
  {
   "cell_type": "markdown",
   "id": "4a696238",
   "metadata": {},
   "source": [
    "### droped the status table"
   ]
  },
  {
   "cell_type": "code",
   "execution_count": null,
   "id": "f5976912",
   "metadata": {
    "scrolled": true
   },
   "outputs": [],
   "source": [
    "df = pd.DataFrame(dic)\n",
    "df.drop(columns = 'status_say', axis = 1 , inplace =True)"
   ]
  },
  {
   "cell_type": "markdown",
   "id": "521e2584",
   "metadata": {},
   "source": [
    "### changed the cosponsors accordingly to author party"
   ]
  },
  {
   "cell_type": "code",
   "execution_count": null,
   "id": "15d6e53b",
   "metadata": {},
   "outputs": [],
   "source": [
    "df.loc[df['Author party'] == 6 , 'Total number of cosponsors'] = 996\n",
    "df.loc[df['Author party'] == 7 , 'Total number of cosponsors'] = 997\n",
    "df.loc[df['Author party'] == 8 , 'Total number of cosponsors'] = 998\n",
    "df.loc[df['Author party'] == 6 , 'Total number of cosponsors from opposite party'] = 996\n",
    "df.loc[df['Author party'] == 7 , 'Total number of cosponsors from opposite party'] = 997\n",
    "df.loc[df['Author party'] == 8 , 'Total number of cosponsors from opposite party'] = 998"
   ]
  },
  {
   "cell_type": "code",
   "execution_count": null,
   "id": "63b02f50",
   "metadata": {},
   "outputs": [],
   "source": [
    "df.loc[df['Author party'] == 6]"
   ]
  },
  {
   "cell_type": "markdown",
   "id": "952de94d",
   "metadata": {},
   "source": [
    "### droped the bills from ppd and pnp"
   ]
  },
  {
   "cell_type": "code",
   "execution_count": null,
   "id": "5c554d4d",
   "metadata": {},
   "outputs": [],
   "source": [
    "portrico = df.loc[df['Author'].str.contains(\"(PPD)\") | df['Author'].str.contains(\"(PNP)\")]\n",
    "df.drop(portrico.index , inplace = True)"
   ]
  },
  {
   "cell_type": "code",
   "execution_count": null,
   "id": "d9360860",
   "metadata": {
    "scrolled": true
   },
   "outputs": [],
   "source": [
    "pd.set_option('display.max_rows', None)\n",
    "df[['Year','Author type','Author','Author party','Total number of cosponsors','Total number of cosponsors from opposite party']]"
   ]
  },
  {
   "cell_type": "code",
   "execution_count": null,
   "id": "c7d408f8",
   "metadata": {},
   "outputs": [],
   "source": [
    "aditional_authors[3]"
   ]
  },
  {
   "cell_type": "markdown",
   "id": "47da2c8b",
   "metadata": {},
   "source": [
    "### uploaded to csv"
   ]
  },
  {
   "cell_type": "code",
   "execution_count": null,
   "id": "ed76792e",
   "metadata": {},
   "outputs": [],
   "source": [
    "df.to_csv('{} {}.csv'.format(database_name,years[0]) , index = False)"
   ]
  },
  {
   "cell_type": "code",
   "execution_count": null,
   "id": "78e355f8",
   "metadata": {},
   "outputs": [],
   "source": []
  },
  {
   "cell_type": "code",
   "execution_count": null,
   "id": "6579c024",
   "metadata": {},
   "outputs": [],
   "source": []
  }
 ],
 "metadata": {
  "kernelspec": {
   "display_name": "Python 3 (ipykernel)",
   "language": "python",
   "name": "python3"
  },
  "language_info": {
   "codemirror_mode": {
    "name": "ipython",
    "version": 3
   },
   "file_extension": ".py",
   "mimetype": "text/x-python",
   "name": "python",
   "nbconvert_exporter": "python",
   "pygments_lexer": "ipython3",
   "version": "3.10.5"
  }
 },
 "nbformat": 4,
 "nbformat_minor": 5
}
